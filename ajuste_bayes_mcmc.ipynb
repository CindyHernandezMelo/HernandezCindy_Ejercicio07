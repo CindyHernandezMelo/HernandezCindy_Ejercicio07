{
 "cells": [
  {
   "cell_type": "code",
   "execution_count": 90,
   "metadata": {},
   "outputs": [
    {
     "name": "stdout",
     "output_type": "stream",
     "text": [
      "beta 0 = 1.684689 $\\pm$ 0.014605\n",
      "beta 1 = 0.116594 $\\pm$ 0.001073\n",
      "beta 2 = 0.135227 $\\pm$ 0.000937\n",
      "beta 3 = 0.126479 $\\pm$ 0.000507\n",
      "beta 4 = 0.215780 $\\pm$ 0.000660\n"
     ]
    }
   ],
   "source": [
    "import numpy as np\n",
    "import matplotlib.pyplot as plt\n",
    "import sklearn.linear_model\n",
    "\n",
    "data = np.loadtxt(\"notas_andes.dat\", skiprows=1)\n",
    "Y = data[:,4]\n",
    "X = data[:,:4]\n",
    "\n",
    "incertidumbre_datos = 0.1\n",
    "\n",
    "wk = 2/incertidumbre_datos**2\n",
    "\n",
    "mat_p_q = np.zeros(5)\n",
    "\n",
    "for i in range(4):\n",
    "    mat_p_q[i] = np.sum(X[:,i]*wk*Y)\n",
    "\n",
    "mat_p_q[-1] = np.sum(wk*Y)\n",
    "\n",
    "\n",
    "mat_a_b_gamma = np.zeros([5,5])\n",
    "\n",
    "for i in range(4):\n",
    "    previo = wk*X[:,i]\n",
    "    mat_a_b_gamma[i,-1] = np.sum(previo)\n",
    "    mat_a_b_gamma[-1,i] = mat_a_b_gamma[i,-1]\n",
    "    mat_a_b_gamma[-1,-1] = wk * 69\n",
    "    for j in range(4):\n",
    "        mat_a_b_gamma[i,j] = np.sum(previo*X[:,j])\n",
    "   \n",
    "betas = np.dot(mat_p_q, np.linalg.inv(mat_a_b_gamma))    \n",
    "\n",
    "covarianza = 2 * np.linalg.inv(mat_a_b_gamma)\n",
    "varianza = np.diagonal(covarianza)\n",
    "print('beta 0 = %f $\\pm$ %f'%(betas[-1], varianza[-1]))\n",
    "for i in range(1,5):\n",
    "    print('beta %s = %f $\\pm$ %f'%(str(i),betas[i-1], varianza[i-1]))\n",
    "print\n",
    "S2 = 1/68 * np.sum((np.sum(betas[:-1]*X, axis = 1)+betas[-1]-Y)**2)"
   ]
  },
  {
   "cell_type": "code",
   "execution_count": 2,
   "metadata": {},
   "outputs": [
    {
     "data": {
      "text/plain": [
       "array([0.1165936 , 0.13522695, 0.12647924, 0.21578014, 1.68468859])"
      ]
     },
     "execution_count": 2,
     "metadata": {},
     "output_type": "execute_result"
    }
   ],
   "source": [
    "betas"
   ]
  },
  {
   "cell_type": "code",
   "execution_count": 3,
   "metadata": {},
   "outputs": [
    {
     "data": {
      "text/plain": [
       "array([0.0010732 , 0.00093746, 0.0005068 , 0.0006599 , 0.0146045 ])"
      ]
     },
     "execution_count": 3,
     "metadata": {},
     "output_type": "execute_result"
    }
   ],
   "source": [
    "np.diagonal(covarianza)"
   ]
  },
  {
   "cell_type": "code",
   "execution_count": 58,
   "metadata": {},
   "outputs": [],
   "source": [
    "x_walk = 0 #this is an empty list to keep all the steps\n",
    "x_0 = 8.0*((np.random.random())-0.5) #this is the initialization\n",
    "x_walk = np.append(x_walk,x_0)\n",
    "\n",
    "def model(x,b1,b2,b3,b4,b0):\n",
    "    return np.sum([b1,b2,b3,b4]*x, axis = 1)+b0 \n",
    "\n",
    "def loglikelihood(x_obs, y_obs, sigma_y_obs, b1,b2,b3,b4,b0):\n",
    "    d = y_obs -  model(x_obs,b1,b2,b3,b4,b0)\n",
    "    d = d/sigma_y_obs\n",
    "    d = -0.5 * np.sum(d**2)\n",
    "    return d\n",
    "\n",
    "def logprior(b1,b2,b3,b4, b0):\n",
    "    p = -np.inf\n",
    "    if b1 < 1 and b1 >0 and b2 >0 and b2<1 and b3 >0 and b3<1 and b4 >0 and b4<1 and b0 >0 and b0<2 :\n",
    "        p = 0.0\n",
    "    return p\n",
    "\n"
   ]
  },
  {
   "cell_type": "code",
   "execution_count": 83,
   "metadata": {},
   "outputs": [
    {
     "name": "stderr",
     "output_type": "stream",
     "text": [
      "/srv/conda/envs/notebook/lib/python3.7/site-packages/ipykernel_launcher.py:29: RuntimeWarning: overflow encountered in exp\n"
     ]
    }
   ],
   "source": [
    "N = 20000\n",
    "x_obs = X\n",
    "y_obs = Y\n",
    "sigma_y_obs = 0.1\n",
    "lista_b1 = [np.random.random()]\n",
    "lista_b2 = [np.random.random()]\n",
    "lista_b3 = [np.random.random()]\n",
    "lista_b4 = [np.random.random()]\n",
    "lista_b0 = [np.random.random()]\n",
    "logposterior = [loglikelihood(x_obs, y_obs, sigma_y_obs, lista_b1[0],lista_b2[0],lista_b3[0],lista_b4[0],lista_b0[0]) + logprior(lista_b1[0],lista_b2[0],lista_b3[0],lista_b4[0],lista_b0[0])]\n",
    "\n",
    "sigma_delta_b1 = 0.005\n",
    "sigma_delta_b2 = 0.005\n",
    "sigma_delta_b3 = 0.005\n",
    "sigma_delta_b4 = 0.005\n",
    "sigma_delta_b0 = 0.01\n",
    "\n",
    "for i in range(1,N):\n",
    "    propuesta_b1  = lista_b1[i-1] + np.random.normal(loc=0.0, scale=sigma_delta_b1)\n",
    "    propuesta_b2  = lista_b2[i-1] + np.random.normal(loc=0.0, scale=sigma_delta_b2)\n",
    "    propuesta_b3  = lista_b3[i-1] + np.random.normal(loc=0.0, scale=sigma_delta_b3)\n",
    "    propuesta_b4  = lista_b4[i-1] + np.random.normal(loc=0.0, scale=sigma_delta_b4)\n",
    "    propuesta_b0  = lista_b0[i-1] + np.random.normal(loc=0.0, scale=sigma_delta_b0)\n",
    "\n",
    "    logposterior_viejo = loglikelihood(x_obs, y_obs, sigma_y_obs, lista_b1[i-1],lista_b2[i-1],lista_b3[i-1],lista_b4[i-1],lista_b0[i-1])  + logprior(lista_b1[i-1],lista_b2[i-1],lista_b3[i-1],lista_b4[i-1],lista_b0[i-1])\n",
    "    logposterior_nuevo = loglikelihood(x_obs, y_obs, sigma_y_obs, propuesta_b1,propuesta_b2,propuesta_b3,propuesta_b4,propuesta_b0)  + logprior(propuesta_b1,propuesta_b2,propuesta_b3,propuesta_b4,propuesta_b0)\n",
    "\n",
    "\n",
    "    r = min(1,np.exp(logposterior_nuevo-logposterior_viejo))\n",
    "    alpha = np.random.random()\n",
    "    if(alpha<r):\n",
    "        lista_b1.append(propuesta_b1)\n",
    "        lista_b2.append(propuesta_b2)\n",
    "        lista_b3.append(propuesta_b3)\n",
    "        lista_b4.append(propuesta_b4)\n",
    "        lista_b0.append(propuesta_b0)\n",
    "        logposterior.append(logposterior_nuevo)\n",
    "    else:\n",
    "        lista_b1.append(lista_b1[i-1])\n",
    "        lista_b2.append(lista_b2[i-1])\n",
    "        lista_b3.append(lista_b3[i-1])\n",
    "        lista_b4.append(lista_b4[i-1])\n",
    "        lista_b0.append(lista_b0[i-1])\n",
    "        logposterior.append(logposterior_viejo)\n",
    "lista_b1 = np.array(lista_b1)\n",
    "lista_b2 = np.array(lista_b2)\n",
    "lista_b3 = np.array(lista_b3)\n",
    "lista_b4 = np.array(lista_b4)\n",
    "lista_b0 = np.array(lista_b0)\n",
    "logposterior = np.array(logposterior)"
   ]
  },
  {
   "cell_type": "code",
   "execution_count": 85,
   "metadata": {},
   "outputs": [
    {
     "data": {
      "image/png": "[encoded data removed]",
      "text/plain": [
       "<Figure size 1440x720 with 5 Axes>"
      ]
     },
     "metadata": {
      "needs_background": "light"
     },
     "output_type": "display_data"
    }
   ],
   "source": [
    "plt.figure(figsize=(20,10))\n",
    "plt.subplot(231)\n",
    "plt.hist(lista_b1[-10000:], bins = 40)\n",
    "plt.title('$beta_1$ =%f $\\pm $ %f'%(np.mean(lista_b1),np.std(lista_b1)))\n",
    "plt.subplot(232)\n",
    "plt.hist(lista_b2[10000:],bins = 40)\n",
    "plt.title('$beta_2$ =%f $\\pm $ %f'%(np.mean(lista_b2),np.std(lista_b2)))\n",
    "plt.subplot(233)\n",
    "plt.hist(lista_b3[10000:],bins = 40)\n",
    "plt.title('$beta_3$ =%f $\\pm $ %f'%(np.mean(lista_b3),np.std(lista_b3)))\n",
    "plt.subplot(234)\n",
    "plt.hist(lista_b4[10000:],bins = 40)\n",
    "plt.title('$beta_4$ =%f $\\pm $ %f'%(np.mean(lista_b4),np.std(lista_b4)))\n",
    "plt.subplot(235)\n",
    "plt.hist(lista_b0[10000:],bins = 40)\n",
    "plt.title('$beta_0$ =%f $\\pm $%f'%(np.mean(lista_b0),np.std(lista_b0)))\n",
    "\n",
    "\n",
    "plt.savefig('ajuste_bayes_mcmc.png')\n"
   ]
  },
  {
   "cell_type": "code",
   "execution_count": null,
   "metadata": {},
   "outputs": [],
   "source": []
  }
 ],
 "metadata": {
  "kernelspec": {
   "display_name": "Python 3",
   "language": "python",
   "name": "python3"
  },
  "language_info": {
   "codemirror_mode": {
    "name": "ipython",
    "version": 3
   },
   "file_extension": ".py",
   "mimetype": "text/x-python",
   "name": "python",
   "nbconvert_exporter": "python",
   "pygments_lexer": "ipython3",
   "version": "3.7.6"
  }
 },
 "nbformat": 4,
 "nbformat_minor": 4
}
